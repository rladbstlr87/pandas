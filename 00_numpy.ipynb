{
 "cells": [
  {
   "cell_type": "code",
   "execution_count": 1,
   "id": "27213d7c-ab68-438c-934f-ccdfa6920d79",
   "metadata": {},
   "outputs": [],
   "source": [
    "import numpy as np\n",
    "\n",
    "my_list = list(range(1000000))\n",
    "my_array = np.arange(1000000)"
   ]
  },
  {
   "cell_type": "code",
   "execution_count": 4,
   "id": "b677dfcd-2252-4356-8f02-ac7053fd71a4",
   "metadata": {},
   "outputs": [
    {
     "name": "stdout",
     "output_type": "stream",
     "text": [
      "65.6 ms ± 5.47 ms per loop (mean ± std. dev. of 7 runs, 10 loops each)\n",
      "2.44 ms ± 293 μs per loop (mean ± std. dev. of 7 runs, 100 loops each)\n"
     ]
    }
   ],
   "source": [
    "%timeit my_list_by2 = [i * 2 for i in my_list]\n",
    "%timeit my_array2 = my_array * 2 # 넘파이가 효율적이라서 시간이 적게 걸린다"
   ]
  },
  {
   "cell_type": "code",
   "execution_count": 6,
   "id": "5a642ea6-391f-4060-93fb-88c9ab5de3d4",
   "metadata": {},
   "outputs": [
    {
     "name": "stdout",
     "output_type": "stream",
     "text": [
      "[[   1.     1.2    3. ]\n",
      " [-123.   123.     0. ]]\n"
     ]
    }
   ],
   "source": [
    "a = [\n",
    "    [1, 1.2, 3],\n",
    "    [-123, 123, 0],\n",
    "]\n",
    "\n",
    "data = np.array(a) # 리스트를 출력을 해주는데 소숫점을 맞춰서 보기 편하게 출력해준다\n",
    "print(data)"
   ]
  },
  {
   "cell_type": "code",
   "execution_count": 17,
   "id": "3cc33477-7aac-4e77-9656-8b693c82caff",
   "metadata": {},
   "outputs": [
    {
     "name": "stdout",
     "output_type": "stream",
     "text": [
      "[[   10.    12.    30.]\n",
      " [-1230.  1230.     0.]]\n",
      "[[   2.     2.4    6. ]\n",
      " [-246.   246.     0. ]]\n"
     ]
    }
   ],
   "source": [
    "# 0차원 : 스칼라(), 1차원 : 벡터()\n",
    "# 2차원 : 매트릭스(), 3차원 : 텐서()\n",
    "print(data * 10) # numpy안썼으면 10번 concatenation 햇을 것이다\n",
    "print(data + data)"
   ]
  },
  {
   "cell_type": "code",
   "execution_count": 9,
   "id": "1923f57b-86e6-437c-8d02-ad6d93edcf06",
   "metadata": {},
   "outputs": [
    {
     "name": "stdout",
     "output_type": "stream",
     "text": [
      "(2, 3)\n",
      "float64\n"
     ]
    }
   ],
   "source": [
    "print(data.shape) # 모양을 찍어달라 가장 바깥에 있는 리스트가 2개 있고 그 안에 3개의 요소(혹은 또다른 리스트)\n",
    "print(data.dtype) # 가장 큰 단위의 배열의 갯수"
   ]
  },
  {
   "cell_type": "markdown",
   "id": "dd34bf1a-6791-40ba-a519-cf9f5a91a8ae",
   "metadata": {},
   "source": [
    "# ndarray 생성하기 (nd == n 차원)"
   ]
  },
  {
   "cell_type": "code",
   "execution_count": 11,
   "id": "c142153e-f6c8-4294-b331-c646b36d7f03",
   "metadata": {},
   "outputs": [
    {
     "name": "stdout",
     "output_type": "stream",
     "text": [
      "[1 2 3 4 5]\n",
      "<class 'numpy.ndarray'>\n"
     ]
    }
   ],
   "source": [
    "data1 = range(1, 6)\n",
    "arr1 = np.array(data1)\n",
    "print(arr1)\n",
    "print(type(arr1))"
   ]
  },
  {
   "cell_type": "code",
   "execution_count": 12,
   "id": "07c06a1d-6815-4e54-8415-d0c92e5a24be",
   "metadata": {},
   "outputs": [
    {
     "name": "stdout",
     "output_type": "stream",
     "text": [
      "[[1.1 2.2]\n",
      " [3.3 4.4]]\n",
      "<class 'numpy.ndarray'>\n"
     ]
    }
   ],
   "source": [
    "arr2 = np.array([[1.1, 2.2], [3.3, 4.4]])\n",
    "print(arr2)\n",
    "print(type(arr2))"
   ]
  },
  {
   "cell_type": "code",
   "execution_count": 16,
   "id": "aa35fdc2-f3d6-4973-b1ca-83da88de10ea",
   "metadata": {},
   "outputs": [
    {
     "name": "stdout",
     "output_type": "stream",
     "text": [
      "1\n",
      "2\n"
     ]
    }
   ],
   "source": [
    "print(arr1.ndim) # 1차원(벡터)\n",
    "print(arr2.ndim) # 2차원("
   ]
  },
  {
   "cell_type": "code",
   "execution_count": 15,
   "id": "22d3271c-59fa-45bf-b0cf-e6670736a1ad",
   "metadata": {},
   "outputs": [
    {
     "name": "stdout",
     "output_type": "stream",
     "text": [
      "(5,)\n",
      "(2, 2)\n"
     ]
    }
   ],
   "source": [
    "print(arr1.shape)\n",
    "print(arr2.shape)"
   ]
  },
  {
   "cell_type": "code",
   "execution_count": 22,
   "id": "b1091c70-1f58-4fad-8ba7-2f4dcf0ea907",
   "metadata": {},
   "outputs": [
    {
     "name": "stdout",
     "output_type": "stream",
     "text": [
      "[0. 0. 0. 0. 0. 0. 0. 0. 0. 0.]\n",
      "[[0. 0. 0. 0. 0.]\n",
      " [0. 0. 0. 0. 0.]\n",
      " [0. 0. 0. 0. 0.]\n",
      " [0. 0. 0. 0. 0.]\n",
      " [0. 0. 0. 0. 0.]]\n",
      "[[[0. 0.]\n",
      "  [0. 0.]]\n",
      "\n",
      " [[0. 0.]\n",
      "  [0. 0.]]]\n"
     ]
    }
   ],
   "source": [
    "# print([0] * 10)  0을 10번 concatetion 해줘\n",
    "print(np.zeros(10)) # 데이터는 모르겠는데 구조를 먼저 만들고 싶어라고 할때ㅔ 쓴다\n",
    "print(np.zeros((5, 5)))\n",
    "print(np.empty((2, 2, 2))) # 빈칸 넣어서 구조를 눈으로 볼때"
   ]
  },
  {
   "cell_type": "code",
   "execution_count": 24,
   "id": "a3ce29a5-b60d-4156-8e55-939dff54b0dc",
   "metadata": {},
   "outputs": [
    {
     "name": "stdout",
     "output_type": "stream",
     "text": [
      "[0 1 2 3 4 5 6 7 8 9]\n"
     ]
    }
   ],
   "source": [
    "print(np.arange(10)) # 0부터 끝나는 지점을 만들어줘서.. 그담에 뭐..?"
   ]
  },
  {
   "cell_type": "markdown",
   "id": "bd4a34dc-8583-47f3-ab12-9d658cf70612",
   "metadata": {},
   "source": [
    "# ndarray 자료형"
   ]
  },
  {
   "cell_type": "code",
   "execution_count": 28,
   "id": "9162de16-f2f4-4e95-9990-02ef1918ab1c",
   "metadata": {},
   "outputs": [
    {
     "name": "stdout",
     "output_type": "stream",
     "text": [
      "float64\n",
      "int32\n"
     ]
    }
   ],
   "source": [
    "arr1 = np.array([1, 2, 3], dtype=np.float64) # 생성할때 속성을 넣어서 소수로 형변환 할거야\n",
    "arr2 = np.array([1, 2, 3], dtype=np.int32) # 생성할때 속성을 넣어서 정수로 형변환 할거야\n",
    "\n",
    "print(arr1.dtype)\n",
    "print(arr2.dtype)"
   ]
  },
  {
   "cell_type": "code",
   "execution_count": 30,
   "id": "81ba36b7-3f28-4b52-95d5-c614277e99ce",
   "metadata": {},
   "outputs": [
    {
     "name": "stdout",
     "output_type": "stream",
     "text": [
      "int64\n",
      "[1. 2. 3.]\n",
      "float64\n"
     ]
    }
   ],
   "source": [
    "# 생성하고 나서 형변환 할때는 이렇게 한다\n",
    "arr1 = np.array([1, 2, 3])\n",
    "print(arr1.dtype)\n",
    "\n",
    "float_arr1 = arr1.astype(np.float64)\n",
    "print(float_arr1)\n",
    "print(float_arr1.dtype)\n",
    "# 소수를 정수로 바꿀수도 있다. 그럼 소수점 아래는 버림처리(파이썬 기본문법도 그러하다)"
   ]
  },
  {
   "cell_type": "markdown",
   "id": "a39b8454-62d1-4611-bce5-29533ef7ea32",
   "metadata": {},
   "source": [
    "# 산술연산"
   ]
  },
  {
   "cell_type": "code",
   "execution_count": 32,
   "id": "85d4f6d1-d220-4b26-8a31-813c38881178",
   "metadata": {},
   "outputs": [
    {
     "name": "stdout",
     "output_type": "stream",
     "text": [
      "[[1 2 3]\n",
      " [4 5 6]]\n"
     ]
    }
   ],
   "source": [
    "arr = np.array([[1, 2, 3], [4, 5, 6]])\n",
    "print(arr)"
   ]
  },
  {
   "cell_type": "code",
   "execution_count": 35,
   "id": "2ac8619a-de29-44e8-aa45-7b94b4068af4",
   "metadata": {},
   "outputs": [
    {
     "name": "stdout",
     "output_type": "stream",
     "text": [
      "[[ 1  4  9]\n",
      " [16 25 36]]\n",
      "[[ 2  4  6]\n",
      " [ 8 10 12]]\n",
      "[[1.         0.5        0.33333333]\n",
      " [0.25       0.2        0.16666667]]\n",
      "[[  1   8  27]\n",
      " [ 64 125 216]]\n"
     ]
    }
   ],
   "source": [
    "print(arr * arr)\n",
    "print(arr + arr)\n",
    "print(1 / arr)\n",
    "print(arr ** 3) # 같은 위치끼리의 산술연산하는 방식"
   ]
  },
  {
   "cell_type": "code",
   "execution_count": 40,
   "id": "61a6c333-b2cf-4557-ac08-2906a742c33c",
   "metadata": {},
   "outputs": [
    {
     "name": "stdout",
     "output_type": "stream",
     "text": [
      "[[1 2 3]\n",
      " [4 5 6]]\n",
      "[[3 2 1]\n",
      " [1 2 3]]\n",
      "[[False False  True]\n",
      " [ True  True  True]]\n",
      "[[False False  True]\n",
      " [False False False]]\n"
     ]
    }
   ],
   "source": [
    "arr2 = np.array([[3, 2, 1],[1, 2, 3]])\n",
    "print(arr)       # arr | 1, 2, 3 |  arr2 | 3, 2, 1 |\n",
    "print(arr2)      #     | 4, 5, 6 |       | 1, 2, 3 |\n",
    "print(arr > arr2) # 같은 위치끼리의 비교(이거 많이쓴다)\n",
    "print(arr == 3)"
   ]
  },
  {
   "cell_type": "markdown",
   "id": "3da4c0b0-7962-4f76-a351-e9f84a0523bf",
   "metadata": {},
   "source": [
    "## 색인(인덱싱)과 슬라이싱"
   ]
  },
  {
   "cell_type": "code",
   "execution_count": 52,
   "id": "046017bc-e665-4bdf-ab1a-a902c96cff62",
   "metadata": {},
   "outputs": [
    {
     "name": "stdout",
     "output_type": "stream",
     "text": [
      "[0 1 2 3 4 5 6 7 8 9]\n",
      "<class 'numpy.ndarray'>\n"
     ]
    }
   ],
   "source": [
    "arr = np.arange(10)\n",
    "print(arr)\n",
    "print(type(np.arange(10)))"
   ]
  },
  {
   "cell_type": "code",
   "execution_count": 53,
   "id": "3750c255-fa7d-4402-913e-440e59298166",
   "metadata": {},
   "outputs": [
    {
     "data": {
      "text/plain": [
       "np.int64(5)"
      ]
     },
     "execution_count": 53,
     "metadata": {},
     "output_type": "execute_result"
    }
   ],
   "source": [
    "arr[5]"
   ]
  },
  {
   "cell_type": "code",
   "execution_count": 54,
   "id": "5c193b20-3ba4-4f0c-be68-ba214df1137d",
   "metadata": {},
   "outputs": [
    {
     "data": {
      "text/plain": [
       "np.int64(7)"
      ]
     },
     "execution_count": 54,
     "metadata": {},
     "output_type": "execute_result"
    }
   ],
   "source": [
    "arr[7]"
   ]
  },
  {
   "cell_type": "code",
   "execution_count": 55,
   "id": "c68430e1-ce1b-4cbc-ae07-26721430af5a",
   "metadata": {},
   "outputs": [
    {
     "data": {
      "text/plain": [
       "array([2, 3, 4])"
      ]
     },
     "execution_count": 55,
     "metadata": {},
     "output_type": "execute_result"
    }
   ],
   "source": [
    "arr[2:5] # 슬라이싱"
   ]
  },
  {
   "cell_type": "code",
   "execution_count": 56,
   "id": "e2292209-617f-40c5-90b8-87e68322002c",
   "metadata": {},
   "outputs": [],
   "source": [
    "arr[2:5] = 10"
   ]
  },
  {
   "cell_type": "code",
   "execution_count": 57,
   "id": "8354e64c-a865-4a5d-b0eb-60364466e4e2",
   "metadata": {},
   "outputs": [
    {
     "name": "stdout",
     "output_type": "stream",
     "text": [
      "[ 0  1 10 10 10  5  6  7  8  9]\n"
     ]
    }
   ],
   "source": [
    "print(arr) # 스칼라 대입을 하면 모든 위치에 데이터가 다 갈아치워진다"
   ]
  },
  {
   "cell_type": "code",
   "execution_count": 58,
   "id": "167dcafc-fe38-4eac-a1ec-38a85f325fbf",
   "metadata": {},
   "outputs": [
    {
     "name": "stdout",
     "output_type": "stream",
     "text": [
      "[1, 2, 3, 4, 5]\n"
     ]
    }
   ],
   "source": [
    "py_list = [1, 2, 3, 4, 5]\n",
    "py_list[2:3].pop()\n",
    "print(py_list)"
   ]
  },
  {
   "cell_type": "code",
   "execution_count": 59,
   "id": "3a3b472e-5f9d-4ca7-b9e0-26950c35c271",
   "metadata": {},
   "outputs": [
    {
     "name": "stdout",
     "output_type": "stream",
     "text": [
      "[[1 2 3]\n",
      " [4 5 6]]\n"
     ]
    }
   ],
   "source": [
    "arr = np.array([[1, 2, 3], [4, 5, 6]])\n",
    "print(arr)"
   ]
  },
  {
   "cell_type": "code",
   "execution_count": 64,
   "id": "a2f6b3d9-4133-483b-9433-d8078e6c5ee7",
   "metadata": {},
   "outputs": [
    {
     "name": "stdout",
     "output_type": "stream",
     "text": [
      "[1 2 3]\n",
      "[4 5 6]\n",
      "4\n",
      "4\n"
     ]
    }
   ],
   "source": [
    "print(arr[0])\n",
    "print(arr[1])\n",
    "print(arr[1][0])\n",
    "print(arr[1, 0])"
   ]
  },
  {
   "cell_type": "code",
   "execution_count": 65,
   "id": "39bf29b4-d627-46de-bf96-2b10f0a3dd34",
   "metadata": {},
   "outputs": [],
   "source": [
    "arr3d = np.array([[[1, 2, 3], [4, 5, 6], [7, 8, 9]],    # 이런 구조가 3차원이다\n",
    "               [[11, 12, 13], [14, 15, 16], [17, 18, 19]],\n",
    "               [[11, 22, 33], [44, 55, 66], [77, 88, 99]]]\n",
    "              )"
   ]
  },
  {
   "cell_type": "code",
   "execution_count": 72,
   "id": "0059befb-3324-431b-bf6b-1f4ca7a4c0bd",
   "metadata": {},
   "outputs": [
    {
     "name": "stdout",
     "output_type": "stream",
     "text": [
      "[[11 22 33]\n",
      " [44 55 66]\n",
      " [77 88 99]]\n",
      "[11 22 33]\n",
      "22\n"
     ]
    }
   ],
   "source": [
    "print(arr3d[2])  # 인덱싱 개념\n",
    "print(arr3d[2, 0]) # 점점 대괄호 갯수가\n",
    "print(arr3d[2, 0, 1]) # 줄어든다"
   ]
  },
  {
   "cell_type": "code",
   "execution_count": 78,
   "id": "8743da6f-9243-41e3-9a6b-44c2e2e876cf",
   "metadata": {},
   "outputs": [
    {
     "name": "stdout",
     "output_type": "stream",
     "text": [
      "[[[1 2 3]\n",
      "  [4 5 6]\n",
      "  [7 8 9]]]\n",
      "[[[4 5 6]\n",
      "  [7 8 9]]]\n",
      "[[[6]\n",
      "  [9]]]\n"
     ]
    }
   ],
   "source": [
    "# a:b라고 하면 a번째 부터 b번째 미만까지\n",
    "print(arr3d[:1])\n",
    "print(arr3d[:1, 1:])\n",
    "print(arr3d[:1, 1:, 2:])"
   ]
  },
  {
   "cell_type": "code",
   "execution_count": 81,
   "id": "67ed0855-b8c0-403a-8434-8651ae5d0575",
   "metadata": {},
   "outputs": [
    {
     "data": {
      "text/plain": [
       "array([[6],\n",
       "       [9]])"
      ]
     },
     "execution_count": 81,
     "metadata": {},
     "output_type": "execute_result"
    }
   ],
   "source": [
    "arr3d[0, 1:, 2:] # 대괄호의 갯수에 따라 인덱싱과 슬라이싱의 차이가 발생한다. 아예 배열안으로 들어가느냐(인덱싱) 그냥 잘라서 쓰느냐"
   ]
  },
  {
   "cell_type": "markdown",
   "id": "5a211463-3aab-42d8-8c13-be9fbfe3aa3a",
   "metadata": {},
   "source": [
    "## boolean 값으로 선택"
   ]
  },
  {
   "cell_type": "code",
   "execution_count": 83,
   "id": "ad15a321-7730-4ea4-8055-7ff2b29fec00",
   "metadata": {},
   "outputs": [],
   "source": [
    "names = np.array(['hong', 'kim', 'hong', 'kim']) # 여기서 첫번째 hong과 두번째 hong은 같은 사람이지만 배열의위치를 동일시하기 위해서 맞춰줬다는 개념\n",
    "data = np.array(\n",
    "    [\n",
    "        ['math', 60], ['math', 90], ['eng', 70], ['eng', 50]\n",
    "    ]\n",
    ")"
   ]
  },
  {
   "cell_type": "code",
   "execution_count": 84,
   "id": "0997665f-b12b-4e5c-ac28-d198c78a80c2",
   "metadata": {},
   "outputs": [
    {
     "data": {
      "text/plain": [
       "array([ True, False,  True, False])"
      ]
     },
     "execution_count": 84,
     "metadata": {},
     "output_type": "execute_result"
    }
   ],
   "source": [
    "names == 'hong'"
   ]
  },
  {
   "cell_type": "code",
   "execution_count": 86,
   "id": "479ffa5b-df32-4a84-a58a-bad17d34aa56",
   "metadata": {},
   "outputs": [
    {
     "data": {
      "text/plain": [
       "array([['math', '60'],\n",
       "       ['eng', '70']], dtype='<U21')"
      ]
     },
     "execution_count": 86,
     "metadata": {},
     "output_type": "execute_result"
    }
   ],
   "source": [
    "# data[[True, False,  True, False]]\n",
    "data[names =='hong']"
   ]
  },
  {
   "cell_type": "markdown",
   "id": "ead99306-7c4f-40d4-bec6-0529a7b00310",
   "metadata": {},
   "source": [
    "- 이와 같이 특정 조건에 맞는 값을 찾을 때 쓴다"
   ]
  },
  {
   "cell_type": "code",
   "execution_count": 90,
   "id": "4ccf0e77-f9f8-4fd6-a12a-5cfe0d1756d6",
   "metadata": {},
   "outputs": [
    {
     "name": "stdout",
     "output_type": "stream",
     "text": [
      "['60' '70']\n",
      "[['math']\n",
      " ['eng']]\n"
     ]
    }
   ],
   "source": [
    "print(data[names =='hong', 1]) # 인덱스 접근\n",
    "print(data[names =='hong', :1]) # 슬라이싱을 한 것"
   ]
  },
  {
   "cell_type": "code",
   "execution_count": 92,
   "id": "e9d826ed-e696-44e7-bcfa-c9b8fbb4251e",
   "metadata": {},
   "outputs": [
    {
     "name": "stdout",
     "output_type": "stream",
     "text": [
      "[False  True False  True]\n",
      "[False  True False  True]\n"
     ]
    }
   ],
   "source": [
    "print(names != 'hong')\n",
    "print(~(names == 'hong'))\n",
    "# 이 두가지의 용법이 같다"
   ]
  },
  {
   "cell_type": "code",
   "execution_count": 93,
   "id": "3c63be6c-6ef7-4418-8400-fa7185d1bb29",
   "metadata": {},
   "outputs": [
    {
     "data": {
      "text/plain": [
       "array([['math', '90'],\n",
       "       ['eng', '50']], dtype='<U21')"
      ]
     },
     "execution_count": 93,
     "metadata": {},
     "output_type": "execute_result"
    }
   ],
   "source": [
    "# 근데 보통 이렇게 조건을 변수에 넣어서 사용한다\n",
    "cond = names == 'kim'\n",
    "data[cond]"
   ]
  },
  {
   "cell_type": "markdown",
   "id": "fa0fe46a-3cea-40d5-b6eb-e4c0b52916ca",
   "metadata": {},
   "source": [
    "## 팬시 색인(fancy indexing)\n",
    "- 조금 더 특정하는 방식"
   ]
  },
  {
   "cell_type": "code",
   "execution_count": 94,
   "id": "d6fc45e7-1896-402e-85c4-f81afab18e20",
   "metadata": {},
   "outputs": [
    {
     "name": "stdout",
     "output_type": "stream",
     "text": [
      "[[0. 0. 0. 0.]\n",
      " [0. 0. 0. 0.]\n",
      " [0. 0. 0. 0.]\n",
      " [0. 0. 0. 0.]\n",
      " [0. 0. 0. 0.]\n",
      " [0. 0. 0. 0.]\n",
      " [0. 0. 0. 0.]\n",
      " [0. 0. 0. 0.]]\n"
     ]
    }
   ],
   "source": [
    "arr = np.zeros((8, 4)) # 8행 4열짜리를 만들겠다\n",
    "print(arr)"
   ]
  },
  {
   "cell_type": "code",
   "execution_count": 96,
   "id": "c5c5ff5d-a957-458b-b8fb-18c3b5457066",
   "metadata": {},
   "outputs": [
    {
     "name": "stdout",
     "output_type": "stream",
     "text": [
      "[[0. 0. 0. 0.]\n",
      " [1. 1. 1. 1.]\n",
      " [2. 2. 2. 2.]\n",
      " [3. 3. 3. 3.]\n",
      " [4. 4. 4. 4.]\n",
      " [5. 5. 5. 5.]\n",
      " [6. 6. 6. 6.]\n",
      " [7. 7. 7. 7.]]\n"
     ]
    }
   ],
   "source": [
    "for i in range(8):\n",
    "    arr[i] = i\n",
    "print(arr)"
   ]
  },
  {
   "cell_type": "code",
   "execution_count": 97,
   "id": "a7ab29b4-5e3e-405f-8ba4-fb243160242c",
   "metadata": {},
   "outputs": [
    {
     "data": {
      "text/plain": [
       "array([[4., 4., 4., 4.],\n",
       "       [3., 3., 3., 3.],\n",
       "       [0., 0., 0., 0.],\n",
       "       [5., 5., 5., 5.]])"
      ]
     },
     "execution_count": 97,
     "metadata": {},
     "output_type": "execute_result"
    }
   ],
   "source": [
    "arr[[4, 3, 0, 5]]"
   ]
  },
  {
   "cell_type": "code",
   "execution_count": 98,
   "id": "32f1af17-0ed2-4fef-9745-7b206f6c1f66",
   "metadata": {},
   "outputs": [
    {
     "data": {
      "text/plain": [
       "array([[5., 5., 5., 5.],\n",
       "       [3., 3., 3., 3.],\n",
       "       [7., 7., 7., 7.]])"
      ]
     },
     "execution_count": 98,
     "metadata": {},
     "output_type": "execute_result"
    }
   ],
   "source": [
    "arr[[-3, -5, -1]] # 인덱스 음수접근은 맨 뒤에서 몇번째를 나타내므로 뒤에서 3번째, 뒤에서 5번째, 맨뒤에것"
   ]
  },
  {
   "cell_type": "code",
   "execution_count": 106,
   "id": "9797abb2-9998-4192-8192-76146fd5c586",
   "metadata": {},
   "outputs": [
    {
     "name": "stdout",
     "output_type": "stream",
     "text": [
      "[[ 4  5  6  7]\n",
      " [20 21 22 23]]\n",
      "[ 6 23]\n"
     ]
    }
   ],
   "source": [
    "arr = np.arange(32).reshape(8, 4)\n",
    "print(arr[[1, 5]])\n",
    "print(arr[[1, 5], [2, 3]]) # 일렬로 값을 반환할때 이렇게 쓴다"
   ]
  },
  {
   "cell_type": "code",
   "execution_count": 109,
   "id": "7505fa98-bead-425d-8e42-660086f4ec71",
   "metadata": {},
   "outputs": [
    {
     "data": {
      "text/plain": [
       "array([[ 6,  7],\n",
       "       [22, 23]])"
      ]
     },
     "execution_count": 109,
     "metadata": {},
     "output_type": "execute_result"
    }
   ],
   "source": [
    "arr[[1, 5]][:, [2, 3]] # 표같은 형태로 반환된다"
   ]
  },
  {
   "cell_type": "markdown",
   "id": "b5d6d269-a714-476c-8715-331505e548ce",
   "metadata": {},
   "source": [
    "## 배열 전치\n",
    "- 배열 축을 바꾸는 것"
   ]
  },
  {
   "cell_type": "code",
   "execution_count": 111,
   "id": "cd8a4db3-93b9-49bd-b9d2-95190a9fd399",
   "metadata": {},
   "outputs": [
    {
     "name": "stdout",
     "output_type": "stream",
     "text": [
      "[[ 0  1  2  3  4]\n",
      " [ 5  6  7  8  9]\n",
      " [10 11 12 13 14]]\n"
     ]
    }
   ],
   "source": [
    "arr = np.arange(15).reshape(3, 5)\n",
    "print(arr)"
   ]
  },
  {
   "cell_type": "code",
   "execution_count": 112,
   "id": "94538395-709a-4e12-990f-0142e052ecef",
   "metadata": {},
   "outputs": [
    {
     "name": "stdout",
     "output_type": "stream",
     "text": [
      "[[ 0  5 10]\n",
      " [ 1  6 11]\n",
      " [ 2  7 12]\n",
      " [ 3  8 13]\n",
      " [ 4  9 14]]\n"
     ]
    }
   ],
   "source": [
    "print(arr.T)"
   ]
  },
  {
   "cell_type": "code",
   "execution_count": 113,
   "id": "d10fbf71-70b8-4821-9280-35a5a1a5427e",
   "metadata": {},
   "outputs": [
    {
     "data": {
      "text/plain": [
       "array([[ 0,  3,  6,  9, 12],\n",
       "       [15, 18, 21, 24, 27],\n",
       "       [30, 33, 36, 39, 42]])"
      ]
     },
     "execution_count": 113,
     "metadata": {},
     "output_type": "execute_result"
    }
   ],
   "source": [
    "arr * 3"
   ]
  },
  {
   "cell_type": "code",
   "execution_count": 115,
   "id": "c535a41e-ca99-44d8-bc08-2720c05478fe",
   "metadata": {},
   "outputs": [
    {
     "data": {
      "text/plain": [
       "array([[ 30,  80, 130],\n",
       "       [ 80, 255, 430],\n",
       "       [130, 430, 730]])"
      ]
     },
     "execution_count": 115,
     "metadata": {},
     "output_type": "execute_result"
    }
   ],
   "source": [
    "arr @ arr.T # 행렬의 내적 or 행렬의 곱"
   ]
  },
  {
   "cell_type": "code",
   "execution_count": 117,
   "id": "bb5fa35e-79aa-4bcc-97ef-2e89dc52ed7a",
   "metadata": {},
   "outputs": [
    {
     "data": {
      "text/plain": [
       "array([[ 30,  80, 130],\n",
       "       [ 80, 255, 430],\n",
       "       [130, 430, 730]])"
      ]
     },
     "execution_count": 117,
     "metadata": {},
     "output_type": "execute_result"
    }
   ],
   "source": [
    "# 위의 행렬의 내적과 같은 용법..(근데 쓸일 없다고 하셨음)\n",
    "np.dot(arr, arr.T)"
   ]
  },
  {
   "cell_type": "markdown",
   "id": "11b834a1-0e01-4cd9-acb2-e33101904f36",
   "metadata": {},
   "source": [
    "## numpy 함수\n",
    "- np.xxxxx"
   ]
  },
  {
   "cell_type": "code",
   "execution_count": 119,
   "id": "10dc866d-3373-461b-8de9-c8db230f122d",
   "metadata": {},
   "outputs": [
    {
     "name": "stdout",
     "output_type": "stream",
     "text": [
      "[[-0.05086951 -1.72759674  1.29022981]\n",
      " [ 1.10096879 -0.55379542  0.47442663]\n",
      " [-0.51919113 -0.39620118 -0.8097372 ]]\n"
     ]
    }
   ],
   "source": [
    "samples = np.random.standard_normal(size=(3, 3))\n",
    "print(samples)        # 어떤 랜덤한 숫자의 3x3배열을 만든다는 뜻"
   ]
  },
  {
   "cell_type": "code",
   "execution_count": 123,
   "id": "fb7b9459-1f30-4479-bd50-a9551d8492b4",
   "metadata": {},
   "outputs": [
    {
     "name": "stdout",
     "output_type": "stream",
     "text": [
      "[[       nan        nan 1.13588283]\n",
      " [1.0492706         nan 0.68878635]\n",
      " [       nan        nan        nan]]\n"
     ]
    },
    {
     "name": "stderr",
     "output_type": "stream",
     "text": [
      "C:\\Users\\1-04\\AppData\\Local\\Temp\\ipykernel_9304\\1273485535.py:1: RuntimeWarning: invalid value encountered in sqrt\n",
      "  arr1 = np.sqrt(samples)\n"
     ]
    }
   ],
   "source": [
    "arr1 = np.sqrt(samples)\n",
    "print(arr1)"
   ]
  },
  {
   "cell_type": "markdown",
   "id": "52cdface-a568-4609-b161-c671e2d6e3ef",
   "metadata": {},
   "source": [
    "- `nan : not a number` 음수에 루트를 씌울 수 없어서 나오는 결과였다 (결측치)"
   ]
  },
  {
   "cell_type": "code",
   "execution_count": 125,
   "id": "a8f4a2d5-7e15-4ba3-9451-e08a926e2655",
   "metadata": {},
   "outputs": [
    {
     "name": "stdout",
     "output_type": "stream",
     "text": [
      "[[0.05086951 1.72759674 1.29022981]\n",
      " [1.10096879 0.55379542 0.47442663]\n",
      " [0.51919113 0.39620118 0.8097372 ]]\n"
     ]
    }
   ],
   "source": [
    "arr2 = np.abs(samples) # absolute 절대값2 = np.abs(samples) # absolute 절대값\n",
    "print(arr2)"
   ]
  },
  {
   "cell_type": "code",
   "execution_count": 126,
   "id": "227b17fe-a7e4-4a67-a52e-c8694535cdc0",
   "metadata": {},
   "outputs": [
    {
     "data": {
      "text/plain": [
       "array([[ True,  True, False],\n",
       "       [False,  True, False],\n",
       "       [ True,  True,  True]])"
      ]
     },
     "execution_count": 126,
     "metadata": {},
     "output_type": "execute_result"
    }
   ],
   "source": [
    "np.isnan(arr1) # nan이 있나요? 있으면 트루"
   ]
  },
  {
   "cell_type": "code",
   "execution_count": null,
   "id": "a55ea08a-7a9e-440c-a7bd-9c03b09a0497",
   "metadata": {},
   "outputs": [],
   "source": []
  }
 ],
 "metadata": {
  "kernelspec": {
   "display_name": "Python 3 (ipykernel)",
   "language": "python",
   "name": "python3"
  },
  "language_info": {
   "codemirror_mode": {
    "name": "ipython",
    "version": 3
   },
   "file_extension": ".py",
   "mimetype": "text/x-python",
   "name": "python",
   "nbconvert_exporter": "python",
   "pygments_lexer": "ipython3",
   "version": "3.13.2"
  }
 },
 "nbformat": 4,
 "nbformat_minor": 5
}
